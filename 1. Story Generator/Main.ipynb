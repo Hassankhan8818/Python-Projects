{
 "cells": [
  {
   "cell_type": "code",
   "execution_count": 1,
   "id": "0dcbc7fb",
   "metadata": {},
   "outputs": [],
   "source": [
    "def user_input(word_input: str):\n",
    "    user_input: str = input(f\"Enter the {word_input} :\")\n",
    "    return user_input"
   ]
  },
  {
   "cell_type": "code",
   "execution_count": 3,
   "id": "fdeb3565",
   "metadata": {},
   "outputs": [
    {
     "name": "stdout",
     "output_type": "stream",
     "text": [
      "Enter the noun :Banana\n",
      "Enter the adjective :Silly\n",
      "Enter the verb :Juggling\n"
     ]
    }
   ],
   "source": [
    "noun = user_input(\"noun\")\n",
    "adjective = user_input(\"adjective\")\n",
    "verb = user_input(\"verb\")"
   ]
  },
  {
   "cell_type": "code",
   "execution_count": 4,
   "id": "af604ffa",
   "metadata": {},
   "outputs": [],
   "source": [
    "Story = f\"\"\"\n",
    "Once upon a time in Giggleville, there lived a hilarious {noun} named Barry. Barry loved {verb}ing and had a talent for getting into funny situations.\n",
    "\n",
    "One day, Barry discovered a talking {noun} that wanted to create the funniest dance routine ever. To find the perfect dance partner, Barry embarked on a comical quest, asking his friends and even visiting a wacky dance studio.\n",
    "\n",
    "Finally, Barry organized a talent show where all the {adjective} {noun}s in town showcased their moves. Barry's performance left everyone in stitches, and with the appearance of the Dancing {noun}, they created an uproariously funny routine.\n",
    "\n",
    "Barry became a legend in Giggleville, known for his hilarious dance moves and infectious laughter. The Dancing {noun} found a home, spreading joy and laughter wherever it went.\n",
    "\n",
    "In the end, Barry showed everyone that silly adventures can lead to the biggest smiles.\n",
    "\"\"\""
   ]
  },
  {
   "cell_type": "code",
   "execution_count": 5,
   "id": "ebe7f9e7",
   "metadata": {},
   "outputs": [
    {
     "name": "stdout",
     "output_type": "stream",
     "text": [
      "\n",
      "Once upon a time in Giggleville, there lived a hilarious Banana named Barry. Barry loved Jugglinging and had a talent for getting into funny situations.\n",
      "\n",
      "One day, Barry discovered a talking Banana that wanted to create the funniest dance routine ever. To find the perfect dance partner, Barry embarked on a comical quest, asking his friends and even visiting a wacky dance studio.\n",
      "\n",
      "Finally, Barry organized a talent show where all the Silly Bananas in town showcased their moves. Barry's performance left everyone in stitches, and with the appearance of the Dancing Banana, they created an uproariously funny routine.\n",
      "\n",
      "Barry became a legend in Giggleville, known for his hilarious dance moves and infectious laughter. The Dancing Banana found a home, spreading joy and laughter wherever it went.\n",
      "\n",
      "In the end, Barry showed everyone that silly adventures can lead to the biggest smiles.\n",
      "\n"
     ]
    }
   ],
   "source": [
    "print(Story)"
   ]
  },
  {
   "cell_type": "code",
   "execution_count": null,
   "id": "d45ae03e",
   "metadata": {},
   "outputs": [],
   "source": []
  }
 ],
 "metadata": {
  "kernelspec": {
   "display_name": "Python 3 (ipykernel)",
   "language": "python",
   "name": "python3"
  },
  "language_info": {
   "codemirror_mode": {
    "name": "ipython",
    "version": 3
   },
   "file_extension": ".py",
   "mimetype": "text/x-python",
   "name": "python",
   "nbconvert_exporter": "python",
   "pygments_lexer": "ipython3",
   "version": "3.9.12"
  }
 },
 "nbformat": 4,
 "nbformat_minor": 5
}
