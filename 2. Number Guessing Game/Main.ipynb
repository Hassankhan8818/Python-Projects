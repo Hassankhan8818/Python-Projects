{
 "cells": [
  {
   "cell_type": "code",
   "execution_count": 19,
   "id": "a708f960",
   "metadata": {},
   "outputs": [],
   "source": [
    "import random"
   ]
  },
  {
   "cell_type": "code",
   "execution_count": 23,
   "id": "0da3cd68",
   "metadata": {},
   "outputs": [],
   "source": [
    "def play_game():\n",
    "    secret_number = random.randint(1, 10)\n",
    "    chances = 3\n",
    "\n",
    "    print(\"Welcome to the Number Guessing Game!\")\n",
    "    print(\"I'm thinking of a number between 1 and 10.\")\n",
    "\n",
    "    while chances > 0:\n",
    "        try:\n",
    "            guess = int(input(\"Take a guess: \"))\n",
    "        except ValueError:\n",
    "            print(\"Invalid input! Please enter a valid number.\")\n",
    "            continue\n",
    "\n",
    "        if guess == secret_number:\n",
    "            print(\"Congratulations! You guessed the correct number!\")\n",
    "            return\n",
    "\n",
    "        elif guess < secret_number:\n",
    "            print(\"Too low!\")\n",
    "        else:\n",
    "            print(\"Too high!\")\n",
    "\n",
    "        chances -= 1\n",
    "        print(\"Chances remaining:\", chances)\n",
    "        print()\n",
    "\n",
    "    print(\"Game over! You ran out of chances.\")\n",
    "    print(\"The secret number was:\", secret_number)"
   ]
  },
  {
   "cell_type": "code",
   "execution_count": 24,
   "id": "0b73730d",
   "metadata": {},
   "outputs": [
    {
     "name": "stdout",
     "output_type": "stream",
     "text": [
      "Welcome to the Number Guessing Game!\n",
      "I'm thinking of a number between 1 and 10.\n",
      "Take a guess: hello\n",
      "Invalid input! Please enter a valid number.\n",
      "Take a guess: 19\n",
      "Too high!\n",
      "Chances remaining: 2\n",
      "\n",
      "Take a guess: 1\n",
      "Too low!\n",
      "Chances remaining: 1\n",
      "\n",
      "Take a guess: 1\n",
      "Too low!\n",
      "Chances remaining: 0\n",
      "\n",
      "Game over! You ran out of chances.\n",
      "The secret number was: 10\n"
     ]
    }
   ],
   "source": [
    "# Play the game\n",
    "play_game()"
   ]
  },
  {
   "cell_type": "code",
   "execution_count": null,
   "id": "c8ef8a37",
   "metadata": {},
   "outputs": [],
   "source": []
  }
 ],
 "metadata": {
  "kernelspec": {
   "display_name": "Python 3 (ipykernel)",
   "language": "python",
   "name": "python3"
  },
  "language_info": {
   "codemirror_mode": {
    "name": "ipython",
    "version": 3
   },
   "file_extension": ".py",
   "mimetype": "text/x-python",
   "name": "python",
   "nbconvert_exporter": "python",
   "pygments_lexer": "ipython3",
   "version": "3.9.12"
  }
 },
 "nbformat": 4,
 "nbformat_minor": 5
}
